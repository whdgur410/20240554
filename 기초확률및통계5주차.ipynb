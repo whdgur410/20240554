{
  "nbformat": 4,
  "nbformat_minor": 0,
  "metadata": {
    "colab": {
      "provenance": [],
      "authorship_tag": "ABX9TyM+/XtNuS1VA4T+6OrCbyNZ",
      "include_colab_link": true
    },
    "kernelspec": {
      "name": "python3",
      "display_name": "Python 3"
    },
    "language_info": {
      "name": "python"
    }
  },
  "cells": [
    {
      "cell_type": "markdown",
      "metadata": {
        "id": "view-in-github",
        "colab_type": "text"
      },
      "source": [
        "<a href=\"https://colab.research.google.com/github/whdgur410/20240554/blob/main/%EA%B8%B0%EC%B4%88%ED%99%95%EB%A5%A0%EB%B0%8F%ED%86%B5%EA%B3%845%EC%A3%BC%EC%B0%A8.ipynb\" target=\"_parent\"><img src=\"https://colab.research.google.com/assets/colab-badge.svg\" alt=\"Open In Colab\"/></a>"
      ]
    },
    {
      "cell_type": "code",
      "execution_count": 12,
      "metadata": {
        "id": "IH3zIZR6zyAv"
      },
      "outputs": [],
      "source": [
        "# 필요한라이브러리임포트import random# 시뮬레이션을위한변수초기화trials = 10000even_rolls_count = 0# 10,000번의주사위던지기시뮬레이션for _ in range(trials):roll = random.randint(1, 6)  # 1부터6까지무작위수(주사위눈금)if roll % 2 == 0:  # 짝수눈금확인even_rolls_count += 1  # 짝수눈금이나오면카운트증가# 짝수눈금이나올확률계산probability_even = even_rolls_count / trialsprobability_even-----------------------(sol)0.4969"
      ]
    },
    {
      "cell_type": "code",
      "source": [
        "# 사건의연산구현예시: 주사위던지기# 사건A: 주사위의눈금이2 이하인사건# 사건B: 주사위의눈금이홀수인사건# 표본공간S와사건A, B 정의S = {1, 2, 3, 4, 5, 6}A = {1, 2}B = {1, 3, 5}# 합집합: A ∪ Bunion_AB = A.union(B)# 교집합: A ∩ Bintersection_AB = A.intersection(B)# 여집합: A' (A의여집합)complement_A = S.difference(A)# 여집합: B' (B의여집합)complement_B = S.difference(B)union_AB, intersection_AB, complement_A, complement_B-----------------------(sol)({1, 2, 3, 5}, {1}, {3, 4, 5, 6}, {2, 4, 6})"
      ],
      "metadata": {
        "id": "h6cIBGce0H0Z"
      },
      "execution_count": 13,
      "outputs": []
    },
    {
      "cell_type": "code",
      "source": [
        "# 각색의공의개수red_balls = 2blue_balls = 3green_balls = 5# 특정색(빨간색) 공이나올경우의수favorable_outcomes = red_balls# 상자안의모든가능한결과의수total_outcomes = red_balls + blue_balls + green_balls# 특정색(빨간색) 공이나올확률계산probability = favorable_outcomes / total_outcomesprobability-----------------------(sol)0.2"
      ],
      "metadata": {
        "id": "4yAzPChc0Q1b"
      },
      "execution_count": 14,
      "outputs": []
    },
    {
      "cell_type": "code",
      "source": [
        "# 주사위던지기시뮬레이션횟수조정: 1,000회n_throws_short = 1000# 주사위던지기결과생성(1~6 사이의무작위정수, 1,000회)throws_short = np.random.randint(1, 7, size=n_throws_short)# 4가나온횟수를기록할배열(1,000회)fours_count_short = np.zeros(n_throws_short)# 각던지기마다4가나온횟수를업데이트(1,000회)for i in range(1, n_throws_short):fours_count_short[i] = fours_count_short[i-1] + (throws_short[i] == 4)# 각시점에서의확률계산(1,000회)probabilities_short = fours_count_short / np.arange(1, n_throws_short + 1)# 결과그래프로표시(1,000회)plt.figure(figsize=(10, 6))plt.plot(probabilities_short, label='Simulated Probability')plt.axhline(y=1/6, color='r', linestyle='-', label='Theoretical Probability (1/6)')plt.xlabel('Number of Throws')plt.ylabel('Probability of Throwing a 4')plt.title('Probability of Throwing a 4 Converging to 1/6 (1,000 Throws)')plt.legend()plt.grid(True)plt.show()"
      ],
      "metadata": {
        "id": "ZC58PDJM0bZO"
      },
      "execution_count": 15,
      "outputs": []
    },
    {
      "cell_type": "code",
      "source": [
        "# 주머니안의공정의bag = ['R'] * 3 + ['B'] * 4  # 3 빨간색, 4 파란색# 시뮬레이션횟수n_picks = 10000# 복원추출시뮬레이션picks = np.random.choice(bag, size=n_picks, replace=True)# 각뽑기마다빨간색공을뽑은누적횟수를기록할배열red_count_cumulative = np.cumsum(picks == 'R')# 각시점에서의실험적확률계산probabilities_red_cumulative = red_count_cumulative / np.arange(1, n_picks + 1)# 결과그래프로표시plt.figure(figsize=(10, 6))plt.plot(probabilities_red_cumulative, label='Simulated Probability of Red')plt.axhline(y=3/7, color='r', linestyle='--', label='Theoretical Probability (3/7)')plt.xlabel('Number of Picks')plt.ylabel('Probability of Picking a Red Ball')plt.title('Probability of Picking a Red Ball Converging to 3/7')plt.legend()plt.grid(True)plt.show()"
      ],
      "metadata": {
        "id": "leCX_IRR0mzy"
      },
      "execution_count": 16,
      "outputs": []
    }
  ]
}